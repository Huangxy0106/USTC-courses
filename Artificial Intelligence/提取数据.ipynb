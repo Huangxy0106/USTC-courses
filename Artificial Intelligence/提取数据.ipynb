{
 "cells": [
  {
   "cell_type": "code",
   "execution_count": 1,
   "metadata": {},
   "outputs": [
    {
     "data": {
      "text/plain": [
       "'/home/ma-user/work'"
      ]
     },
     "execution_count": 1,
     "metadata": {},
     "output_type": "execute_result"
    }
   ],
   "source": [
    "import os\n",
    "os.getcwd()"
   ]
  },
  {
   "cell_type": "code",
   "execution_count": 2,
   "metadata": {},
   "outputs": [
    {
     "name": "stderr",
     "output_type": "stream",
     "text": [
      "INFO:root:Using MoXing-v1.17.3-\n",
      "INFO:root:Using OBS-Python-SDK-3.20.7\n"
     ]
    }
   ],
   "source": [
    "import moxing as mox\n",
    "mox.file.copy('obs://dog-vs-cat-hxy/data/dogs-vs-cats.zip','/home/ma-user/work/dogs-vs-cats.zip')"
   ]
  },
  {
   "cell_type": "code",
   "execution_count": 3,
   "metadata": {},
   "outputs": [
    {
     "name": "stdout",
     "output_type": "stream",
     "text": [
      "['提取数据.ipynb', 'test1', 'train.zip', '训练模型 .ipynb', '.ipynb_checkpoints', 'dogs-vs-cats.zip', 'test1.zip', 'model_total.h5', 'sampleSubmission.csv', 'train', 'model.h5']\n"
     ]
    }
   ],
   "source": [
    "import os\n",
    "print(os.listdir())"
   ]
  },
  {
   "cell_type": "code",
   "execution_count": 4,
   "metadata": {},
   "outputs": [],
   "source": [
    "import zipfile\n",
    "with zipfile.ZipFile(\"dogs-vs-cats.zip\",\"r\") as z:\n",
    "    z.extractall('.')"
   ]
  },
  {
   "cell_type": "code",
   "execution_count": 5,
   "metadata": {},
   "outputs": [
    {
     "name": "stdout",
     "output_type": "stream",
     "text": [
      "['提取数据.ipynb', 'test1', 'train.zip', '训练模型 .ipynb', '.ipynb_checkpoints', 'dogs-vs-cats.zip', 'test1.zip', 'model_total.h5', 'sampleSubmission.csv', 'train', 'model.h5']\n"
     ]
    }
   ],
   "source": [
    "print(os.listdir())"
   ]
  },
  {
   "cell_type": "code",
   "execution_count": 6,
   "metadata": {},
   "outputs": [],
   "source": [
    "import zipfile\n",
    "with zipfile.ZipFile(\"train.zip\",\"r\") as z:\n",
    "    z.extractall('.')\n",
    "with zipfile.ZipFile(\"test1.zip\",\"r\") as z:\n",
    "    z.extractall('.')"
   ]
  },
  {
   "cell_type": "code",
   "execution_count": 7,
   "metadata": {},
   "outputs": [],
   "source": [
    "import zipfile\n",
    "with zipfile.ZipFile(\"dogs-vs-cats.zip\",\"r\") as z:\n",
    "    z.extractall('.')\n",
    "with zipfile.ZipFile(\"train.zip\",\"r\") as z:\n",
    "    z.extractall('.')\n",
    "with zipfile.ZipFile(\"test1.zip\",\"r\") as z:\n",
    "    z.extractall('.')"
   ]
  },
  {
   "cell_type": "code",
   "execution_count": null,
   "metadata": {},
   "outputs": [],
   "source": []
  }
 ],
 "metadata": {
  "kernelspec": {
   "display_name": "TensorFlow-2.1.0",
   "language": "python",
   "name": "tensorflow-2.1.0"
  },
  "language_info": {
   "codemirror_mode": {
    "name": "ipython",
    "version": 3
   },
   "file_extension": ".py",
   "mimetype": "text/x-python",
   "name": "python",
   "nbconvert_exporter": "python",
   "pygments_lexer": "ipython3",
   "version": "3.6.4"
  }
 },
 "nbformat": 4,
 "nbformat_minor": 4
}
